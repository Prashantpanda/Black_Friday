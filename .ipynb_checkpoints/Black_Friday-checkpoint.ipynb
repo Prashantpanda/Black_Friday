{
 "cells": [
  {
   "cell_type": "code",
   "execution_count": 116,
   "metadata": {},
   "outputs": [],
   "source": [
    "import pandas as pd\n",
    "import numpy as np\n",
    "import matplotlib.pyplot as plt"
   ]
  },
  {
   "cell_type": "code",
   "execution_count": 70,
   "metadata": {},
   "outputs": [],
   "source": [
    "df = pd.read_csv('Dataset/train.csv')"
   ]
  },
  {
   "cell_type": "code",
   "execution_count": 71,
   "metadata": {},
   "outputs": [
    {
     "name": "stdout",
     "output_type": "stream",
     "text": [
      "<class 'pandas.core.frame.DataFrame'>\n",
      "RangeIndex: 550068 entries, 0 to 550067\n",
      "Data columns (total 12 columns):\n",
      "User_ID                       550068 non-null int64\n",
      "Product_ID                    550068 non-null object\n",
      "Gender                        550068 non-null object\n",
      "Age                           550068 non-null object\n",
      "Occupation                    550068 non-null int64\n",
      "City_Category                 550068 non-null object\n",
      "Stay_In_Current_City_Years    550068 non-null object\n",
      "Marital_Status                550068 non-null int64\n",
      "Product_Category_1            550068 non-null int64\n",
      "Product_Category_2            376430 non-null float64\n",
      "Product_Category_3            166821 non-null float64\n",
      "Purchase                      550068 non-null int64\n",
      "dtypes: float64(2), int64(5), object(5)\n",
      "memory usage: 50.4+ MB\n"
     ]
    }
   ],
   "source": [
    "df.info()"
   ]
  },
  {
   "cell_type": "code",
   "execution_count": 72,
   "metadata": {},
   "outputs": [
    {
     "data": {
      "text/html": [
       "<div>\n",
       "<style scoped>\n",
       "    .dataframe tbody tr th:only-of-type {\n",
       "        vertical-align: middle;\n",
       "    }\n",
       "\n",
       "    .dataframe tbody tr th {\n",
       "        vertical-align: top;\n",
       "    }\n",
       "\n",
       "    .dataframe thead th {\n",
       "        text-align: right;\n",
       "    }\n",
       "</style>\n",
       "<table border=\"1\" class=\"dataframe\">\n",
       "  <thead>\n",
       "    <tr style=\"text-align: right;\">\n",
       "      <th></th>\n",
       "      <th>User_ID</th>\n",
       "      <th>Product_ID</th>\n",
       "      <th>Gender</th>\n",
       "      <th>Age</th>\n",
       "      <th>Occupation</th>\n",
       "      <th>City_Category</th>\n",
       "      <th>Stay_In_Current_City_Years</th>\n",
       "      <th>Marital_Status</th>\n",
       "      <th>Product_Category_1</th>\n",
       "      <th>Product_Category_2</th>\n",
       "      <th>Product_Category_3</th>\n",
       "      <th>Purchase</th>\n",
       "    </tr>\n",
       "  </thead>\n",
       "  <tbody>\n",
       "    <tr>\n",
       "      <th>0</th>\n",
       "      <td>1000001</td>\n",
       "      <td>P00069042</td>\n",
       "      <td>F</td>\n",
       "      <td>0-17</td>\n",
       "      <td>10</td>\n",
       "      <td>A</td>\n",
       "      <td>2</td>\n",
       "      <td>0</td>\n",
       "      <td>3</td>\n",
       "      <td>NaN</td>\n",
       "      <td>NaN</td>\n",
       "      <td>8370</td>\n",
       "    </tr>\n",
       "    <tr>\n",
       "      <th>1</th>\n",
       "      <td>1000001</td>\n",
       "      <td>P00248942</td>\n",
       "      <td>F</td>\n",
       "      <td>0-17</td>\n",
       "      <td>10</td>\n",
       "      <td>A</td>\n",
       "      <td>2</td>\n",
       "      <td>0</td>\n",
       "      <td>1</td>\n",
       "      <td>6.0</td>\n",
       "      <td>14.0</td>\n",
       "      <td>15200</td>\n",
       "    </tr>\n",
       "    <tr>\n",
       "      <th>2</th>\n",
       "      <td>1000001</td>\n",
       "      <td>P00087842</td>\n",
       "      <td>F</td>\n",
       "      <td>0-17</td>\n",
       "      <td>10</td>\n",
       "      <td>A</td>\n",
       "      <td>2</td>\n",
       "      <td>0</td>\n",
       "      <td>12</td>\n",
       "      <td>NaN</td>\n",
       "      <td>NaN</td>\n",
       "      <td>1422</td>\n",
       "    </tr>\n",
       "    <tr>\n",
       "      <th>3</th>\n",
       "      <td>1000001</td>\n",
       "      <td>P00085442</td>\n",
       "      <td>F</td>\n",
       "      <td>0-17</td>\n",
       "      <td>10</td>\n",
       "      <td>A</td>\n",
       "      <td>2</td>\n",
       "      <td>0</td>\n",
       "      <td>12</td>\n",
       "      <td>14.0</td>\n",
       "      <td>NaN</td>\n",
       "      <td>1057</td>\n",
       "    </tr>\n",
       "    <tr>\n",
       "      <th>4</th>\n",
       "      <td>1000002</td>\n",
       "      <td>P00285442</td>\n",
       "      <td>M</td>\n",
       "      <td>55+</td>\n",
       "      <td>16</td>\n",
       "      <td>C</td>\n",
       "      <td>4+</td>\n",
       "      <td>0</td>\n",
       "      <td>8</td>\n",
       "      <td>NaN</td>\n",
       "      <td>NaN</td>\n",
       "      <td>7969</td>\n",
       "    </tr>\n",
       "  </tbody>\n",
       "</table>\n",
       "</div>"
      ],
      "text/plain": [
       "   User_ID Product_ID Gender   Age  Occupation City_Category  \\\n",
       "0  1000001  P00069042      F  0-17          10             A   \n",
       "1  1000001  P00248942      F  0-17          10             A   \n",
       "2  1000001  P00087842      F  0-17          10             A   \n",
       "3  1000001  P00085442      F  0-17          10             A   \n",
       "4  1000002  P00285442      M   55+          16             C   \n",
       "\n",
       "  Stay_In_Current_City_Years  Marital_Status  Product_Category_1  \\\n",
       "0                          2               0                   3   \n",
       "1                          2               0                   1   \n",
       "2                          2               0                  12   \n",
       "3                          2               0                  12   \n",
       "4                         4+               0                   8   \n",
       "\n",
       "   Product_Category_2  Product_Category_3  Purchase  \n",
       "0                 NaN                 NaN      8370  \n",
       "1                 6.0                14.0     15200  \n",
       "2                 NaN                 NaN      1422  \n",
       "3                14.0                 NaN      1057  \n",
       "4                 NaN                 NaN      7969  "
      ]
     },
     "execution_count": 72,
     "metadata": {},
     "output_type": "execute_result"
    }
   ],
   "source": [
    "df.head()"
   ]
  },
  {
   "cell_type": "code",
   "execution_count": 77,
   "metadata": {},
   "outputs": [],
   "source": [
    "#User_ID and Product_ID would not be used for training.. so delete them..\n",
    "df_new = df.drop(['User_ID','Product_ID'], axis='columns')"
   ]
  },
  {
   "cell_type": "code",
   "execution_count": 78,
   "metadata": {},
   "outputs": [
    {
     "name": "stdout",
     "output_type": "stream",
     "text": [
      "['F' 'M']\n"
     ]
    }
   ],
   "source": [
    "print(df_new['Gender'].unique())"
   ]
  },
  {
   "cell_type": "code",
   "execution_count": 79,
   "metadata": {},
   "outputs": [
    {
     "name": "stdout",
     "output_type": "stream",
     "text": [
      "[0, 1, 2, 3, 4, 5, 6, 7, 8, 9, 10, 11, 12, 13, 14, 15, 16, 17, 18, 19, 20]\n"
     ]
    },
    {
     "data": {
      "text/plain": [
       "Occupation\n",
       "0     69638\n",
       "1     47426\n",
       "2     26588\n",
       "3     17650\n",
       "4     72308\n",
       "5     12177\n",
       "6     20355\n",
       "7     59133\n",
       "8      1546\n",
       "9      6291\n",
       "10    12930\n",
       "11    11586\n",
       "12    31179\n",
       "13     7728\n",
       "14    27309\n",
       "15    12165\n",
       "16    25371\n",
       "17    40043\n",
       "18     6622\n",
       "19     8461\n",
       "20    33562\n",
       "Name: Occupation, dtype: int64"
      ]
     },
     "execution_count": 79,
     "metadata": {},
     "output_type": "execute_result"
    }
   ],
   "source": [
    "print(sorted(df_new['Occupation'].unique()))\n",
    "df_new.groupby('Occupation')['Occupation'].count()"
   ]
  },
  {
   "cell_type": "code",
   "execution_count": 80,
   "metadata": {},
   "outputs": [
    {
     "name": "stdout",
     "output_type": "stream",
     "text": [
      "['0-17' '55+' '26-35' '46-50' '51-55' '36-45' '18-25']\n"
     ]
    },
    {
     "data": {
      "text/plain": [
       "count     550068\n",
       "unique         7\n",
       "top        26-35\n",
       "freq      219587\n",
       "Name: Age, dtype: object"
      ]
     },
     "execution_count": 80,
     "metadata": {},
     "output_type": "execute_result"
    }
   ],
   "source": [
    "print(df_new['Age'].unique())\n",
    "df_new['Age'].describe()"
   ]
  },
  {
   "cell_type": "code",
   "execution_count": 81,
   "metadata": {},
   "outputs": [
    {
     "name": "stdout",
     "output_type": "stream",
     "text": [
      "['A' 'C' 'B']\n",
      "count     550068\n",
      "unique         3\n",
      "top            B\n",
      "freq      231173\n",
      "Name: City_Category, dtype: object\n"
     ]
    }
   ],
   "source": [
    "print(df_new['City_Category'].unique())\n",
    "print(df_new['City_Category'].describe())"
   ]
  },
  {
   "cell_type": "code",
   "execution_count": 82,
   "metadata": {},
   "outputs": [
    {
     "name": "stdout",
     "output_type": "stream",
     "text": [
      "['2' '4+' '3' '1' '0']\n",
      "count     550068\n",
      "unique         5\n",
      "top            1\n",
      "freq      193821\n",
      "Name: Stay_In_Current_City_Years, dtype: object\n",
      "Stay_In_Current_City_Years\n",
      "0      74398\n",
      "1     193821\n",
      "2     101838\n",
      "3      95285\n",
      "4+     84726\n",
      "Name: Stay_In_Current_City_Years, dtype: int64\n"
     ]
    }
   ],
   "source": [
    "print(df_new['Stay_In_Current_City_Years'].unique())\n",
    "print(df_new['Stay_In_Current_City_Years'].describe())\n",
    "print(df_new.groupby('Stay_In_Current_City_Years')['Stay_In_Current_City_Years'].count())"
   ]
  },
  {
   "cell_type": "code",
   "execution_count": 83,
   "metadata": {},
   "outputs": [
    {
     "name": "stdout",
     "output_type": "stream",
     "text": [
      "[0 1]\n",
      "count    550068.000000\n",
      "mean          0.409653\n",
      "std           0.491770\n",
      "min           0.000000\n",
      "25%           0.000000\n",
      "50%           0.000000\n",
      "75%           1.000000\n",
      "max           1.000000\n",
      "Name: Marital_Status, dtype: float64\n",
      "Marital_Status\n",
      "0    324731\n",
      "1    225337\n",
      "Name: Marital_Status, dtype: int64\n"
     ]
    }
   ],
   "source": [
    "print(df_new['Marital_Status'].unique())\n",
    "print(df_new['Marital_Status'].describe())\n",
    "print(df_new.groupby('Marital_Status')['Marital_Status'].count())"
   ]
  },
  {
   "cell_type": "code",
   "execution_count": 84,
   "metadata": {},
   "outputs": [
    {
     "name": "stdout",
     "output_type": "stream",
     "text": [
      "[ 3  1 12  8  5  4  2  6 14 11 13 15  7 16 18 10 17  9 20 19]\n",
      "count    550068.000000\n",
      "mean          5.404270\n",
      "std           3.936211\n",
      "min           1.000000\n",
      "25%           1.000000\n",
      "50%           5.000000\n",
      "75%           8.000000\n",
      "max          20.000000\n",
      "Name: Product_Category_1, dtype: float64\n",
      "Product_Category_1\n",
      "1     140378\n",
      "2      23864\n",
      "3      20213\n",
      "4      11753\n",
      "5     150933\n",
      "6      20466\n",
      "7       3721\n",
      "8     113925\n",
      "9        410\n",
      "10      5125\n",
      "11     24287\n",
      "12      3947\n",
      "13      5549\n",
      "14      1523\n",
      "15      6290\n",
      "16      9828\n",
      "17       578\n",
      "18      3125\n",
      "19      1603\n",
      "20      2550\n",
      "Name: Product_Category_1, dtype: int64\n"
     ]
    }
   ],
   "source": [
    "print(df_new['Product_Category_1'].unique())\n",
    "print(df_new['Product_Category_1'].describe())\n",
    "print(df_new.groupby('Product_Category_1')['Product_Category_1'].count())"
   ]
  },
  {
   "cell_type": "code",
   "execution_count": 85,
   "metadata": {},
   "outputs": [
    {
     "name": "stdout",
     "output_type": "stream",
     "text": [
      "[nan, 2.0, 3.0, 4.0, 5.0, 6.0, 7.0, 8.0, 9.0, 10.0, 11.0, 12.0, 13.0, 14.0, 15.0, 16.0, 17.0, 18.0]\n",
      "count    376430.000000\n",
      "mean          9.842329\n",
      "std           5.086590\n",
      "min           2.000000\n",
      "25%           5.000000\n",
      "50%           9.000000\n",
      "75%          15.000000\n",
      "max          18.000000\n",
      "Name: Product_Category_2, dtype: float64\n",
      "Product_Category_2\n",
      "2.0     49217\n",
      "3.0      2884\n",
      "4.0     25677\n",
      "5.0     26235\n",
      "6.0     16466\n",
      "7.0       626\n",
      "8.0     64088\n",
      "9.0      5693\n",
      "10.0     3043\n",
      "11.0    14134\n",
      "12.0     5528\n",
      "13.0    10531\n",
      "14.0    55108\n",
      "15.0    37855\n",
      "16.0    43255\n",
      "17.0    13320\n",
      "18.0     2770\n",
      "Name: Product_Category_2, dtype: int64\n"
     ]
    },
    {
     "data": {
      "text/plain": [
       "173638"
      ]
     },
     "execution_count": 85,
     "metadata": {},
     "output_type": "execute_result"
    }
   ],
   "source": [
    "print(sorted(df_new['Product_Category_2'].unique()))\n",
    "print(df_new['Product_Category_2'].describe())\n",
    "print(df_new.groupby('Product_Category_2')['Product_Category_2'].count())\n",
    "df_new['Product_Category_2'].isnull().sum()"
   ]
  },
  {
   "cell_type": "code",
   "execution_count": 86,
   "metadata": {},
   "outputs": [
    {
     "name": "stdout",
     "output_type": "stream",
     "text": [
      "[nan, 3.0, 4.0, 5.0, 6.0, 8.0, 9.0, 10.0, 11.0, 12.0, 13.0, 14.0, 15.0, 16.0, 17.0, 18.0]\n",
      "count    166821.000000\n",
      "mean         12.668243\n",
      "std           4.125338\n",
      "min           3.000000\n",
      "25%           9.000000\n",
      "50%          14.000000\n",
      "75%          16.000000\n",
      "max          18.000000\n",
      "Name: Product_Category_3, dtype: float64\n",
      "Product_Category_3\n",
      "3.0       613\n",
      "4.0      1875\n",
      "5.0     16658\n",
      "6.0      4890\n",
      "8.0     12562\n",
      "9.0     11579\n",
      "10.0     1726\n",
      "11.0     1805\n",
      "12.0     9246\n",
      "13.0     5459\n",
      "14.0    18428\n",
      "15.0    28013\n",
      "16.0    32636\n",
      "17.0    16702\n",
      "18.0     4629\n",
      "Name: Product_Category_3, dtype: int64\n"
     ]
    },
    {
     "data": {
      "text/plain": [
       "383247"
      ]
     },
     "execution_count": 86,
     "metadata": {},
     "output_type": "execute_result"
    }
   ],
   "source": [
    "print(sorted(df_new['Product_Category_3'].unique()))\n",
    "print(df_new['Product_Category_3'].describe())\n",
    "print(df_new.groupby('Product_Category_3')['Product_Category_3'].count())\n",
    "df_new['Product_Category_3'].isnull().sum()"
   ]
  },
  {
   "cell_type": "code",
   "execution_count": 87,
   "metadata": {},
   "outputs": [
    {
     "name": "stdout",
     "output_type": "stream",
     "text": [
      "count    550068.000000\n",
      "mean       9263.968713\n",
      "std        5023.065394\n",
      "min          12.000000\n",
      "25%        5823.000000\n",
      "50%        8047.000000\n",
      "75%       12054.000000\n",
      "max       23961.000000\n",
      "Name: Purchase, dtype: float64\n"
     ]
    }
   ],
   "source": [
    "print(df_new['Purchase'].describe())"
   ]
  },
  {
   "cell_type": "markdown",
   "metadata": {},
   "source": [
    "## Initial Analysis of features and target\n",
    "* Gender has two categorical values F and M. So we will have to convert Gender from Object data type to categorical\n",
    "* Occupation has 21 unique categories from 0 to 21. So it should be converted to categorical.\n",
    "* Age is divided into 7 unique intervals. So convert it into categorical.\n",
    "* Three categories of citys are there. So convert to categorical.\n",
    "* Stay_In_Current_City_Years has 5 unique values. So convert to categorical.\n",
    "* Marital Status has two values 0 and 1. So convert to categorical.\n",
    "* Product_Category_1 has 20 unique values. Convert to categorical.\n",
    "* Product_Category_2 has 173638 values missing specified as NaN. These need to be rectified. It has 17 categorical.\n",
    "* Product_Category_3 has 383247 values missing specified as NaN. These need to be rectified. It has 15 categorical values.\n",
    "* Purchase is the target variable. None are missing.\n",
    "\n",
    "Since there are many missing values in Product_Category_2 and Product_Category_3, it is not feasable to remove all those rows. \n"
   ]
  },
  {
   "cell_type": "code",
   "execution_count": 91,
   "metadata": {},
   "outputs": [],
   "source": [
    "# create a new column for category which is merged value of the three categories.\n",
    "# First replace NaN with empty string and convert the column to string data type.\n",
    "df_new['Product_Category_1'] = df_new['Product_Category_1'].astype(str)\n",
    "df_new['Product_Category_2'] = df_new['Product_Category_2'].astype(str)\n",
    "df_new['Product_Category_3'] = df_new['Product_Category_3'].astype(str)"
   ]
  },
  {
   "cell_type": "code",
   "execution_count": 96,
   "metadata": {},
   "outputs": [],
   "source": [
    "#replace the string nan with empty string\n",
    "df_new.loc[df_new['Product_Category_2'] == 'nan','Product_Category_2'] = '-'"
   ]
  },
  {
   "cell_type": "code",
   "execution_count": 97,
   "metadata": {},
   "outputs": [],
   "source": [
    "df_new.loc[df_new['Product_Category_3'] == 'nan', 'Product_Category_3'] = '-'"
   ]
  },
  {
   "cell_type": "code",
   "execution_count": 98,
   "metadata": {},
   "outputs": [
    {
     "name": "stdout",
     "output_type": "stream",
     "text": [
      "['-' '6.0' '14.0' '2.0' '8.0' '15.0' '16.0' '11.0' '5.0' '3.0' '4.0'\n",
      " '12.0' '9.0' '10.0' '17.0' '13.0' '7.0' '18.0']\n",
      "count     550068\n",
      "unique        18\n",
      "top            -\n",
      "freq      173638\n",
      "Name: Product_Category_2, dtype: object\n",
      "Product_Category_2\n",
      "-       173638\n",
      "10.0      3043\n",
      "11.0     14134\n",
      "12.0      5528\n",
      "13.0     10531\n",
      "14.0     55108\n",
      "15.0     37855\n",
      "16.0     43255\n",
      "17.0     13320\n",
      "18.0      2770\n",
      "2.0      49217\n",
      "3.0       2884\n",
      "4.0      25677\n",
      "5.0      26235\n",
      "6.0      16466\n",
      "7.0        626\n",
      "8.0      64088\n",
      "9.0       5693\n",
      "Name: Product_Category_2, dtype: int64\n"
     ]
    }
   ],
   "source": [
    "print(df_new['Product_Category_2'].unique())\n",
    "print(df_new['Product_Category_2'].describe())\n",
    "print(df_new.groupby('Product_Category_2')['Product_Category_2'].count())"
   ]
  },
  {
   "cell_type": "code",
   "execution_count": 99,
   "metadata": {},
   "outputs": [
    {
     "name": "stdout",
     "output_type": "stream",
     "text": [
      "['-' '14.0' '17.0' '5.0' '4.0' '16.0' '15.0' '8.0' '9.0' '13.0' '6.0'\n",
      " '12.0' '3.0' '18.0' '11.0' '10.0']\n",
      "count     550068\n",
      "unique        16\n",
      "top            -\n",
      "freq      383247\n",
      "Name: Product_Category_3, dtype: object\n",
      "Product_Category_3\n",
      "-       383247\n",
      "10.0      1726\n",
      "11.0      1805\n",
      "12.0      9246\n",
      "13.0      5459\n",
      "14.0     18428\n",
      "15.0     28013\n",
      "16.0     32636\n",
      "17.0     16702\n",
      "18.0      4629\n",
      "3.0        613\n",
      "4.0       1875\n",
      "5.0      16658\n",
      "6.0       4890\n",
      "8.0      12562\n",
      "9.0      11579\n",
      "Name: Product_Category_3, dtype: int64\n"
     ]
    }
   ],
   "source": [
    "print(df_new['Product_Category_3'].unique())\n",
    "print(df_new['Product_Category_3'].describe())\n",
    "print(df_new.groupby('Product_Category_3')['Product_Category_3'].count())"
   ]
  },
  {
   "cell_type": "markdown",
   "metadata": {},
   "source": [
    "Now creating a new feature from three other product types"
   ]
  },
  {
   "cell_type": "code",
   "execution_count": 107,
   "metadata": {},
   "outputs": [],
   "source": [
    "df_new['final_category'] = df_new['Product_Category_1']+','+df_new['Product_Category_2']+','+df_new['Product_Category_3']"
   ]
  },
  {
   "cell_type": "code",
   "execution_count": 108,
   "metadata": {},
   "outputs": [
    {
     "name": "stdout",
     "output_type": "stream",
     "text": [
      "<class 'pandas.core.frame.DataFrame'>\n",
      "RangeIndex: 550068 entries, 0 to 550067\n",
      "Data columns (total 11 columns):\n",
      "Gender                        550068 non-null object\n",
      "Age                           550068 non-null object\n",
      "Occupation                    550068 non-null int64\n",
      "City_Category                 550068 non-null object\n",
      "Stay_In_Current_City_Years    550068 non-null object\n",
      "Marital_Status                550068 non-null int64\n",
      "Product_Category_1            550068 non-null object\n",
      "Product_Category_2            550068 non-null object\n",
      "Product_Category_3            550068 non-null object\n",
      "Purchase                      550068 non-null int64\n",
      "final_category                550068 non-null object\n",
      "dtypes: int64(3), object(8)\n",
      "memory usage: 46.2+ MB\n"
     ]
    }
   ],
   "source": [
    "df_new.info()"
   ]
  },
  {
   "cell_type": "code",
   "execution_count": 115,
   "metadata": {},
   "outputs": [
    {
     "name": "stdout",
     "output_type": "stream",
     "text": [
      "['3,-,-' '1,6.0,14.0' '12,-,-' '12,14.0,-' '8,-,-' '1,2.0,-' '1,8.0,17.0'\n",
      " '1,15.0,-' '1,16.0,-' '5,11.0,-' '1,2.0,5.0' '5,8.0,14.0' '4,5.0,-'\n",
      " '2,3.0,4.0' '5,14.0,-' '1,14.0,16.0' '1,5.0,15.0' '1,8.0,14.0' '6,8.0,-'\n",
      " '2,4.0,8.0' '5,-,-' '3,4.0,-' '2,4.0,9.0' '5,12.0,-' '1,11.0,15.0'\n",
      " '14,-,-' '1,15.0,16.0' '5,9.0,-' '6,10.0,13.0' '1,6.0,8.0' '8,17.0,-'\n",
      " '8,13.0,-' '1,6.0,-' '5,8.0,-' '8,14.0,-' '1,5.0,6.0' '8,11.0,-'\n",
      " '1,8.0,-' '8,16.0,-' '1,2.0,6.0' '1,2.0,15.0' '1,6.0,15.0' '5,15.0,-'\n",
      " '1,15.0,17.0' '3,4.0,9.0' '4,8.0,9.0' '1,2.0,13.0' '2,3.0,15.0'\n",
      " '2,9.0,14.0' '3,4.0,5.0' '5,6.0,-' '5,6.0,13.0' '1,-,-' '3,5.0,-'\n",
      " '11,-,-' '3,4.0,12.0' '1,2.0,4.0' '3,12.0,-' '1,11.0,16.0' '2,4.0,15.0'\n",
      " '1,2.0,3.0' '6,16.0,-' '11,16.0,-' '1,6.0,16.0' '2,8.0,14.0' '13,16.0,-'\n",
      " '1,5.0,12.0' '1,5.0,9.0' '2,4.0,-' '5,8.0,18.0' '1,8.0,9.0' '2,-,-'\n",
      " '2,17.0,-' '8,14.0,17.0' '1,5.0,-' '15,-,-' '8,15.0,-' '8,10.0,-'\n",
      " '5,9.0,14.0' '7,-,-' '8,13.0,15.0' '16,-,-' '1,8.0,16.0' '4,5.0,9.0'\n",
      " '1,2.0,14.0' '5,17.0,-' '12,14.0,17.0' '5,8.0,17.0' '5,6.0,11.0'\n",
      " '1,14.0,-' '1,2.0,16.0' '11,13.0,16.0' '15,16.0,-' '18,-,-' '1,14.0,17.0'\n",
      " '8,9.0,14.0' '1,13.0,16.0' '1,5.0,14.0' '3,15.0,-' '6,8.0,15.0'\n",
      " '11,15.0,-' '6,8.0,10.0' '6,8.0,13.0' '6,8.0,16.0' '2,5.0,14.0'\n",
      " '1,2.0,8.0' '10,16.0,-' '8,15.0,16.0' '12,17.0,-' '4,5.0,12.0'\n",
      " '10,13.0,-' '6,10.0,-' '1,2.0,9.0' '2,4.0,5.0' '4,5.0,8.0' '3,4.0,8.0'\n",
      " '5,14.0,17.0' '5,6.0,16.0' '2,15.0,16.0' '5,12.0,14.0' '13,-,-'\n",
      " '1,8.0,13.0' '10,14.0,16.0' '5,14.0,16.0' '5,6.0,9.0' '2,9.0,15.0'\n",
      " '4,8.0,-' '2,5.0,8.0' '10,13.0,16.0' '5,11.0,12.0' '1,2.0,17.0'\n",
      " '2,5.0,15.0' '5,13.0,-' '1,2.0,11.0' '6,8.0,14.0' '1,5.0,18.0'\n",
      " '10,15.0,16.0' '2,8.0,-' '6,11.0,13.0' '5,6.0,8.0' '2,8.0,18.0'\n",
      " '8,14.0,16.0' '2,15.0,-' '2,3.0,10.0' '6,-,-' '1,6.0,13.0' '5,7.0,-'\n",
      " '15,17.0,-' '1,11.0,-' '5,8.0,12.0' '6,13.0,-' '10,15.0,-' '1,5.0,8.0'\n",
      " '8,12.0,-' '2,5.0,-' '8,9.0,-' '2,16.0,-' '2,6.0,15.0' '8,16.0,17.0'\n",
      " '5,18.0,-' '2,18.0,-' '1,5.0,17.0' '17,-,-' '4,11.0,-' '4,9.0,15.0'\n",
      " '2,8.0,16.0' '1,2.0,18.0' '7,8.0,-' '1,8.0,18.0' '5,13.0,16.0'\n",
      " '1,4.0,9.0' '2,4.0,14.0' '1,17.0,-' '11,15.0,16.0' '11,14.0,-'\n",
      " '4,5.0,15.0' '10,-,-' '1,13.0,14.0' '4,-,-' '2,14.0,15.0' '8,13.0,16.0'\n",
      " '6,10.0,16.0' '5,11.0,16.0' '1,8.0,15.0' '3,13.0,-' '1,15.0,18.0'\n",
      " '9,15.0,-' '1,18.0,-' '8,13.0,14.0' '5,16.0,-' '2,9.0,-' '15,16.0,17.0'\n",
      " '13,14.0,16.0' '8,12.0,17.0' '3,5.0,16.0' '4,5.0,18.0' '2,12.0,-'\n",
      " '4,12.0,-' '7,17.0,-' '5,15.0,18.0' '11,13.0,-' '2,14.0,-' '8,10.0,16.0'\n",
      " '8,18.0,-' '13,15.0,-' '13,15.0,16.0' '5,14.0,15.0' '2,4.0,12.0'\n",
      " '14,16.0,-' '5,8.0,15.0' '5,8.0,16.0' '1,4.0,-' '1,13.0,15.0'\n",
      " '2,5.0,12.0' '4,9.0,12.0' '1,14.0,15.0' '7,12.0,-' '1,16.0,17.0'\n",
      " '8,11.0,16.0' '6,11.0,-' '6,11.0,16.0' '4,5.0,13.0' '5,13.0,14.0'\n",
      " '8,14.0,15.0' '14,18.0,-' '1,3.0,4.0' '14,17.0,-' '4,15.0,-'\n",
      " '8,14.0,18.0' '2,12.0,14.0' '5,11.0,15.0' '4,9.0,-' '5,10.0,16.0'\n",
      " '10,11.0,-' '9,-,-' '20,-,-' '19,-,-']\n",
      "count     550068\n",
      "unique       237\n",
      "top        5,-,-\n",
      "freq       63700\n",
      "Name: final_category, dtype: object\n",
      "final_category\n",
      "1,-,-           6598\n",
      "1,11.0,-        1273\n",
      "1,11.0,15.0     3144\n",
      "1,11.0,16.0      419\n",
      "1,13.0,14.0      448\n",
      "1,13.0,15.0      279\n",
      "1,13.0,16.0      294\n",
      "1,14.0,-         982\n",
      "1,14.0,15.0      333\n",
      "1,14.0,16.0     2704\n",
      "1,14.0,17.0      549\n",
      "1,15.0,-        7795\n",
      "1,15.0,16.0     9015\n",
      "1,15.0,17.0     1258\n",
      "1,15.0,18.0      476\n",
      "1,16.0,-       14636\n",
      "1,16.0,17.0      192\n",
      "1,17.0,-        1865\n",
      "1,18.0,-         715\n",
      "1,2.0,-         5683\n",
      "1,2.0,11.0      1588\n",
      "1,2.0,13.0      1347\n",
      "1,2.0,14.0      3545\n",
      "1,2.0,15.0     14882\n",
      "1,2.0,16.0      3490\n",
      "1,2.0,17.0       200\n",
      "1,2.0,18.0       218\n",
      "1,2.0,3.0        613\n",
      "1,2.0,4.0        524\n",
      "1,2.0,5.0       7982\n",
      "               ...  \n",
      "7,-,-           3421\n",
      "7,12.0,-         118\n",
      "7,17.0,-          98\n",
      "7,8.0,-           84\n",
      "8,-,-          60760\n",
      "8,10.0,-         338\n",
      "8,10.0,16.0       60\n",
      "8,11.0,-        1629\n",
      "8,11.0,16.0       43\n",
      "8,12.0,-        1361\n",
      "8,12.0,17.0      230\n",
      "8,13.0,-        2765\n",
      "8,13.0,14.0      290\n",
      "8,13.0,15.0      966\n",
      "8,13.0,16.0     1007\n",
      "8,14.0,-       15960\n",
      "8,14.0,15.0       36\n",
      "8,14.0,16.0      694\n",
      "8,14.0,17.0     4063\n",
      "8,14.0,18.0       18\n",
      "8,15.0,-        3460\n",
      "8,15.0,16.0      862\n",
      "8,16.0,-        9972\n",
      "8,16.0,17.0      540\n",
      "8,17.0,-        7945\n",
      "8,18.0,-         508\n",
      "8,9.0,-          159\n",
      "8,9.0,14.0       259\n",
      "9,-,-              1\n",
      "9,15.0,-         409\n",
      "Name: final_category, Length: 237, dtype: int64\n"
     ]
    }
   ],
   "source": [
    "print(df_new['final_category'].unique())\n",
    "print(df_new['final_category'].describe())\n",
    "print(df_new.groupby('final_category')['final_category'].count())"
   ]
  },
  {
   "cell_type": "markdown",
   "metadata": {},
   "source": [
    "New product category 'final_category' has a total of 237 category types which could be converted to categorical values."
   ]
  },
  {
   "cell_type": "code",
   "execution_count": 118,
   "metadata": {},
   "outputs": [],
   "source": [
    "df_final = df_new.drop(['Product_Category_1','Product_Category_2','Product_Category_3'], axis='columns')"
   ]
  },
  {
   "cell_type": "code",
   "execution_count": 119,
   "metadata": {},
   "outputs": [
    {
     "data": {
      "text/html": [
       "<div>\n",
       "<style scoped>\n",
       "    .dataframe tbody tr th:only-of-type {\n",
       "        vertical-align: middle;\n",
       "    }\n",
       "\n",
       "    .dataframe tbody tr th {\n",
       "        vertical-align: top;\n",
       "    }\n",
       "\n",
       "    .dataframe thead th {\n",
       "        text-align: right;\n",
       "    }\n",
       "</style>\n",
       "<table border=\"1\" class=\"dataframe\">\n",
       "  <thead>\n",
       "    <tr style=\"text-align: right;\">\n",
       "      <th></th>\n",
       "      <th>Gender</th>\n",
       "      <th>Age</th>\n",
       "      <th>Occupation</th>\n",
       "      <th>City_Category</th>\n",
       "      <th>Stay_In_Current_City_Years</th>\n",
       "      <th>Marital_Status</th>\n",
       "      <th>Purchase</th>\n",
       "      <th>final_category</th>\n",
       "    </tr>\n",
       "  </thead>\n",
       "  <tbody>\n",
       "    <tr>\n",
       "      <th>0</th>\n",
       "      <td>F</td>\n",
       "      <td>0-17</td>\n",
       "      <td>10</td>\n",
       "      <td>A</td>\n",
       "      <td>2</td>\n",
       "      <td>0</td>\n",
       "      <td>8370</td>\n",
       "      <td>3,-,-</td>\n",
       "    </tr>\n",
       "    <tr>\n",
       "      <th>1</th>\n",
       "      <td>F</td>\n",
       "      <td>0-17</td>\n",
       "      <td>10</td>\n",
       "      <td>A</td>\n",
       "      <td>2</td>\n",
       "      <td>0</td>\n",
       "      <td>15200</td>\n",
       "      <td>1,6.0,14.0</td>\n",
       "    </tr>\n",
       "    <tr>\n",
       "      <th>2</th>\n",
       "      <td>F</td>\n",
       "      <td>0-17</td>\n",
       "      <td>10</td>\n",
       "      <td>A</td>\n",
       "      <td>2</td>\n",
       "      <td>0</td>\n",
       "      <td>1422</td>\n",
       "      <td>12,-,-</td>\n",
       "    </tr>\n",
       "    <tr>\n",
       "      <th>3</th>\n",
       "      <td>F</td>\n",
       "      <td>0-17</td>\n",
       "      <td>10</td>\n",
       "      <td>A</td>\n",
       "      <td>2</td>\n",
       "      <td>0</td>\n",
       "      <td>1057</td>\n",
       "      <td>12,14.0,-</td>\n",
       "    </tr>\n",
       "    <tr>\n",
       "      <th>4</th>\n",
       "      <td>M</td>\n",
       "      <td>55+</td>\n",
       "      <td>16</td>\n",
       "      <td>C</td>\n",
       "      <td>4+</td>\n",
       "      <td>0</td>\n",
       "      <td>7969</td>\n",
       "      <td>8,-,-</td>\n",
       "    </tr>\n",
       "  </tbody>\n",
       "</table>\n",
       "</div>"
      ],
      "text/plain": [
       "  Gender   Age  Occupation City_Category Stay_In_Current_City_Years  \\\n",
       "0      F  0-17          10             A                          2   \n",
       "1      F  0-17          10             A                          2   \n",
       "2      F  0-17          10             A                          2   \n",
       "3      F  0-17          10             A                          2   \n",
       "4      M   55+          16             C                         4+   \n",
       "\n",
       "   Marital_Status  Purchase final_category  \n",
       "0               0      8370          3,-,-  \n",
       "1               0     15200     1,6.0,14.0  \n",
       "2               0      1422         12,-,-  \n",
       "3               0      1057      12,14.0,-  \n",
       "4               0      7969          8,-,-  "
      ]
     },
     "execution_count": 119,
     "metadata": {},
     "output_type": "execute_result"
    }
   ],
   "source": [
    "df_final.head()"
   ]
  },
  {
   "cell_type": "markdown",
   "metadata": {},
   "source": [
    "## Now doing some EDA"
   ]
  },
  {
   "cell_type": "code",
   "execution_count": null,
   "metadata": {},
   "outputs": [],
   "source": []
  }
 ],
 "metadata": {
  "kernelspec": {
   "display_name": "Python 3",
   "language": "python",
   "name": "python3"
  },
  "language_info": {
   "codemirror_mode": {
    "name": "ipython",
    "version": 3
   },
   "file_extension": ".py",
   "mimetype": "text/x-python",
   "name": "python",
   "nbconvert_exporter": "python",
   "pygments_lexer": "ipython3",
   "version": "3.5.5"
  },
  "widgets": {
   "state": {},
   "version": "1.1.2"
  }
 },
 "nbformat": 4,
 "nbformat_minor": 2
}
